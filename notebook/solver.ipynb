{
 "cells": [
  {
   "cell_type": "markdown",
   "metadata": {},
   "source": [
    "# Lights Out を解く\n",
    "参考：https://qiita.com/LyricalMaestro0/items/2bd9ef55cb49fe788179"
   ]
  },
  {
   "cell_type": "code",
   "execution_count": 1,
   "metadata": {},
   "outputs": [],
   "source": [
    "import random\n",
    "import itertools\n",
    "import numpy as np\n",
    "import matplotlib.pyplot as plt\n",
    "%matplotlib inline"
   ]
  },
  {
   "cell_type": "markdown",
   "metadata": {},
   "source": [
    "## 1. N*Mサイズを指定する。"
   ]
  },
  {
   "cell_type": "code",
   "execution_count": 2,
   "metadata": {},
   "outputs": [
    {
     "name": "stdout",
     "output_type": "stream",
     "text": [
      "3 3\n"
     ]
    }
   ],
   "source": [
    "random_flag = False\n",
    "\n",
    "if random_flag:\n",
    "    # ランダム版\n",
    "    n = random.randint(1, 10)\n",
    "    m = random.randint(1, 10)\n",
    "else:\n",
    "    n = 3\n",
    "    m = 3\n",
    "    \n",
    "print(n, m)"
   ]
  },
  {
   "cell_type": "markdown",
   "metadata": {},
   "source": [
    "## 2. 初期の盤面を決定"
   ]
  },
  {
   "cell_type": "code",
   "execution_count": 3,
   "metadata": {},
   "outputs": [
    {
     "name": "stdout",
     "output_type": "stream",
     "text": [
      "[1, 8]\n",
      "[0 1 0 0 0 0 0 0 1]\n"
     ]
    }
   ],
   "source": [
    "init_state = random.sample(range(n*m), k=random.randint(1,n*m))\n",
    "bord_state = np.array([1 if i in init_state else 0 for i in range(n*m)])\n",
    "\n",
    "print(sorted(init_state))\n",
    "print(bord_state)"
   ]
  },
  {
   "cell_type": "markdown",
   "metadata": {},
   "source": [
    "## 3. 状態の表示"
   ]
  },
  {
   "cell_type": "code",
   "execution_count": 4,
   "metadata": {},
   "outputs": [],
   "source": [
    "def display_state(n, m, states, color='blue'):\n",
    "    # config\n",
    "    plt.figure(figsize=(n,m))\n",
    "    plt.xlim(0,n)\n",
    "    plt.ylim(0,m)\n",
    "    plt.tick_params(axis='both', which='both', bottom=False, top=False,\n",
    "                    labelbottom=False, right=False, left=False, labelleft=False)\n",
    "\n",
    "    # grid\n",
    "    plt.xticks(range(n))\n",
    "    plt.yticks(range(m))\n",
    "    plt.grid(which='major')\n",
    "\n",
    "    # plot ON-OFF state\n",
    "    for i, state in enumerate(states):\n",
    "        if state:\n",
    "            plt.fill_between((i%n, i%n+1), m-i//n-1, m-i//n, facecolor=color)\n",
    "\n",
    "    plt.show()"
   ]
  },
  {
   "cell_type": "code",
   "execution_count": 5,
   "metadata": {},
   "outputs": [
    {
     "data": {
      "image/png": "[encoded data removed]",
      "text/plain": [
       "<Figure size 216x216 with 1 Axes>"
      ]
     },
     "metadata": {},
     "output_type": "display_data"
    }
   ],
   "source": [
    "display_state(n, m, bord_state)"
   ]
  },
  {
   "cell_type": "markdown",
   "metadata": {},
   "source": [
    "## 4. solver"
   ]
  },
  {
   "cell_type": "markdown",
   "metadata": {},
   "source": [
    "### 4.1 各所押下時の挙動を列挙"
   ]
  },
  {
   "cell_type": "code",
   "execution_count": 6,
   "metadata": {},
   "outputs": [
    {
     "name": "stdout",
     "output_type": "stream",
     "text": [
      "[[1 1 0 1 0 0 0 0 0]\n",
      " [1 1 1 0 1 0 0 0 0]\n",
      " [0 1 1 0 0 1 0 0 0]\n",
      " [1 0 0 1 1 0 1 0 0]\n",
      " [0 1 0 1 1 1 0 1 0]\n",
      " [0 0 1 0 1 1 0 0 1]\n",
      " [0 0 0 1 0 0 1 1 0]\n",
      " [0 0 0 0 1 0 1 1 1]\n",
      " [0 0 0 0 0 1 0 1 1]]\n"
     ]
    }
   ],
   "source": [
    "push_state = []\n",
    "\n",
    "for i in range(m):\n",
    "    for j in range(n):\n",
    "        tmp = np.array([[0]*n]*m)\n",
    "        tmp[i, j] = 1\n",
    "        for k in [j-1, j+1]:\n",
    "            if 0 <= k < n:\n",
    "                tmp[i, k] = 1\n",
    "        for k in [i-1, i+1]:\n",
    "            if 0 <= k < m:\n",
    "                tmp[k, j] = 1\n",
    "        push_state.append(tmp.reshape(-1))\n",
    "\n",
    "push_state = np.array(push_state)\n",
    "print(push_state)"
   ]
  },
  {
   "cell_type": "markdown",
   "metadata": {},
   "source": [
    "#### 一覧表示"
   ]
  },
  {
   "cell_type": "code",
   "execution_count": 7,
   "metadata": {},
   "outputs": [
    {
     "data": {
      "image/png": "[encoded data removed]",
      "text/plain": [
       "<Figure size 216x216 with 1 Axes>"
      ]
     },
     "metadata": {},
     "output_type": "display_data"
    },
    {
     "data": {
      "image/png": "[encoded data removed]",
      "text/plain": [
       "<Figure size 216x216 with 1 Axes>"
      ]
     },
     "metadata": {},
     "output_type": "display_data"
    },
    {
     "data": {
      "image/png": "[encoded data removed]",
      "text/plain": [
       "<Figure size 216x216 with 1 Axes>"
      ]
     },
     "metadata": {},
     "output_type": "display_data"
    },
    {
     "data": {
      "image/png": "[encoded data removed]",
      "text/plain": [
       "<Figure size 216x216 with 1 Axes>"
      ]
     },
     "metadata": {},
     "output_type": "display_data"
    },
    {
     "data": {
      "image/png": "[encoded data removed]",
      "text/plain": [
       "<Figure size 216x216 with 1 Axes>"
      ]
     },
     "metadata": {},
     "output_type": "display_data"
    },
    {
     "data": {
      "image/png": "[encoded data removed]",
      "text/plain": [
       "<Figure size 216x216 with 1 Axes>"
      ]
     },
     "metadata": {},
     "output_type": "display_data"
    },
    {
     "data": {
      "image/png": "[encoded data removed]",
      "text/plain": [
       "<Figure size 216x216 with 1 Axes>"
      ]
     },
     "metadata": {},
     "output_type": "display_data"
    },
    {
     "data": {
      "image/png": "[encoded data removed]",
      "text/plain": [
       "<Figure size 216x216 with 1 Axes>"
      ]
     },
     "metadata": {},
     "output_type": "display_data"
    },
    {
     "data": {
      "image/png": "[encoded data removed]",
      "text/plain": [
       "<Figure size 216x216 with 1 Axes>"
      ]
     },
     "metadata": {},
     "output_type": "display_data"
    }
   ],
   "source": [
    "for p_state in push_state:\n",
    "    display_state(n, m, p_state, 'red')"
   ]
  },
  {
   "cell_type": "markdown",
   "metadata": {},
   "source": [
    "### 4.2 方程式を作成\n",
    "$\\mathrm{push\\_pattern} * x = \\mathrm{bord\\_state}$ となる$x$を求める。"
   ]
  },
  {
   "cell_type": "markdown",
   "metadata": {},
   "source": [
    "#### 4.2.1 アプローチ1 全探索 (※非推奨)\n",
    "**最大 $n,m=10$ で計算量が $O(10^{30})$ となるのでやめましょう。**"
   ]
  },
  {
   "cell_type": "markdown",
   "metadata": {},
   "source": [
    "```python\n",
    "result = []\n",
    "for p in itertools.product([0,1], repeat=n*m):\n",
    "    res = np.array(list(map(lambda x:x%2, np.sum(push_state*p, axis=1))))\n",
    "    if np.allclose(bord_state, res):\n",
    "        result.append(p)\n",
    "        \n",
    "print(result)\n",
    "```"
   ]
  },
  {
   "cell_type": "markdown",
   "metadata": {},
   "source": [
    "#### 確認"
   ]
  },
  {
   "cell_type": "markdown",
   "metadata": {},
   "source": [
    "```python\n",
    "def update_state(b_state, p_state):\n",
    "    return np.array(list(map(lambda x:x%2, b_state+p_state)))\n",
    "\n",
    "res = sorted(result, key=lambda p:len(p))[0]\n",
    "print(f'操作回数 : {len([r for r in res if r])}')\n",
    "\n",
    "new_state = bord_state\n",
    "display_state(n, m, new_state)\n",
    "\n",
    "if result:\n",
    "    for i,val in enumerate(res):\n",
    "        if val:\n",
    "            print(i)\n",
    "            new_state = update_state(new_state,push_state[i])\n",
    "            display_state(n, m, new_state)\n",
    "else:\n",
    "    print(\"解は存在しない。\")\n",
    "```"
   ]
  },
  {
   "cell_type": "markdown",
   "metadata": {},
   "source": [
    "#### 4.2.2 アプローチ2 最上段の組み合わせ$2^n$から考える"
   ]
  },
  {
   "cell_type": "code",
   "execution_count": 46,
   "metadata": {},
   "outputs": [],
   "source": [
    "def update_state(b_state, p_state):\n",
    "    return np.array(list(map(lambda x:x%2, b_state+p_state)))\n",
    "\n",
    "def check_state(b_state):\n",
    "    \"\"\"全ての要素が0(消灯)ならTrue,それ以外(1つ以上の要素が1(点灯))はFalse\"\"\"\n",
    "    return ~np.any(b_state)"
   ]
  },
  {
   "cell_type": "code",
   "execution_count": 51,
   "metadata": {},
   "outputs": [],
   "source": [
    "result = []\n",
    "\n",
    "# 最上段の組み合わせのiteration\n",
    "for p in itertools.product([0,1], repeat=n):\n",
    "    \n",
    "    # 初期化\n",
    "    new_state = bord_state\n",
    "    tmp_push = []\n",
    "    \n",
    "    # 組み合わせの通りに操作\n",
    "    for i,_p in enumerate(p):\n",
    "        if _p:\n",
    "            new_state = update_state(new_state, push_state[i])\n",
    "            #display_state(n, m, new_state)\n",
    "            tmp_push.append(1)\n",
    "        else:\n",
    "            tmp_push.append(0)\n",
    "    \n",
    "    # 各行の1マス上のマスを消すような操作\n",
    "    for i in range(m-1):\n",
    "        for j in range(n):\n",
    "            if new_state[i * m + j] == 1:\n",
    "                new_state = update_state(new_state, push_state[(i+1)*m + j])\n",
    "                #display_state(n, m, new_state)\n",
    "                tmp_push.append(1)\n",
    "            else:\n",
    "                tmp_push.append(0)\n",
    "                \n",
    "    if check_state(new_state):\n",
    "        result.append(tmp_push)\n",
    "    \n",
    "    #display_state(n, m, new_state)"
   ]
  },
  {
   "cell_type": "code",
   "execution_count": 52,
   "metadata": {},
   "outputs": [
    {
     "data": {
      "text/plain": [
       "[[0, 1, 1, 1, 1, 0, 0, 1, 0]]"
      ]
     },
     "execution_count": 52,
     "metadata": {},
     "output_type": "execute_result"
    }
   ],
   "source": [
    "if result:\n",
    "    for i,val in enumerate(res):\n",
    "        if val:\n",
    "            print(i)\n",
    "            new_state = update_state(new_state,push_state[i])\n",
    "            display_state(n, m, new_state)\n",
    "else:\n",
    "    print(\"解は存在しない。\")"
   ]
  },
  {
   "cell_type": "code",
   "execution_count": null,
   "metadata": {},
   "outputs": [],
   "source": [
    "res = sorted(result, key=lambda p:len(p))[0]\n",
    "print(f'操作回数 : {len([r for r in res if r])}')\n",
    "\n",
    "new_state = bord_state\n",
    "display_state(n, m, new_state)\n",
    "\n",
    "if result:\n",
    "    for i,val in enumerate(res):\n",
    "        if val:\n",
    "            print(i)\n",
    "            new_state = update_state(new_state,push_state[i])\n",
    "            display_state(n, m, new_state)\n",
    "else:\n",
    "    print(\"解は存在しない。\")"
   ]
  },
  {
   "cell_type": "code",
   "execution_count": null,
   "metadata": {},
   "outputs": [],
   "source": []
  }
 ],
 "metadata": {
  "kernelspec": {
   "display_name": "Python 3",
   "language": "python",
   "name": "python3"
  },
  "language_info": {
   "codemirror_mode": {
    "name": "ipython",
    "version": 3
   },
   "file_extension": ".py",
   "mimetype": "text/x-python",
   "name": "python",
   "nbconvert_exporter": "python",
   "pygments_lexer": "ipython3",
   "version": "3.7.0"
  }
 },
 "nbformat": 4,
 "nbformat_minor": 2
}
