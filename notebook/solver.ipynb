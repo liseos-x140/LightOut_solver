{
 "cells": [
  {
   "cell_type": "code",
   "execution_count": 1,
   "metadata": {},
   "outputs": [],
   "source": [
    "import random\n",
    "import numpy as np\n",
    "import matplotlib.pyplot as plt\n",
    "%matplotlib inline"
   ]
  },
  {
   "cell_type": "markdown",
   "metadata": {},
   "source": [
    "## 1. N*Mサイズを指定する。"
   ]
  },
  {
   "cell_type": "code",
   "execution_count": 2,
   "metadata": {},
   "outputs": [
    {
     "name": "stdout",
     "output_type": "stream",
     "text": [
      "3 3\n"
     ]
    }
   ],
   "source": [
    "random_flag = False\n",
    "\n",
    "if random_flag:\n",
    "    # ランダム版\n",
    "    n = random.randint(1, 10)\n",
    "    m = random.randint(1, 10)\n",
    "else:\n",
    "    n = 3\n",
    "    m = 3\n",
    "    \n",
    "print(n, m)"
   ]
  },
  {
   "cell_type": "markdown",
   "metadata": {},
   "source": [
    "## 2. 初期の盤面を決定"
   ]
  },
  {
   "cell_type": "code",
   "execution_count": 12,
   "metadata": {},
   "outputs": [
    {
     "name": "stdout",
     "output_type": "stream",
     "text": [
      "[3, 7]\n",
      "[False False False  True False False False  True False]\n"
     ]
    }
   ],
   "source": [
    "init_state = random.sample(range(n*m), k=random.randint(1,n*m))\n",
    "bord_state = np.array([True if i in init_state else False for i in range(n*m)])\n",
    "\n",
    "print(sorted(init_state))\n",
    "print(bord_state)"
   ]
  },
  {
   "cell_type": "markdown",
   "metadata": {},
   "source": [
    "## 3. 状態の表示"
   ]
  },
  {
   "cell_type": "code",
   "execution_count": 48,
   "metadata": {},
   "outputs": [],
   "source": [
    "def display_state(n, m, states, color='blue'):\n",
    "    # config\n",
    "    plt.figure(figsize=(n,m))\n",
    "    plt.xlim(0,n)\n",
    "    plt.ylim(0,m)\n",
    "    plt.tick_params(axis='both', which='both', bottom=False, top=False,\n",
    "                    labelbottom=False, right=False, left=False, labelleft=False)\n",
    "\n",
    "    # grid\n",
    "    plt.plot([1, 1], [0, 3], color='gray', linewidth=0.5)\n",
    "    plt.plot([2, 2], [0, 3], color='gray', linewidth=0.5)\n",
    "    plt.plot([0, 3], [1, 1], color='gray', linewidth=0.5)\n",
    "    plt.plot([0, 3], [2, 2], color='gray', linewidth=0.5)\n",
    "\n",
    "    # plot ON-OFF state\n",
    "    for i, state in enumerate(states):\n",
    "        if state:\n",
    "            plt.fill_between((i%n, i%n+1), m-i//m-1, m-i//m, facecolor=color)\n",
    "\n",
    "    plt.show()"
   ]
  },
  {
   "cell_type": "code",
   "execution_count": 49,
   "metadata": {},
   "outputs": [
    {
     "data": {
      "image/png": "[encoded data removed]",
      "text/plain": [
       "<Figure size 216x216 with 1 Axes>"
      ]
     },
     "metadata": {},
     "output_type": "display_data"
    }
   ],
   "source": [
    "display_state(n, m, bord_state)"
   ]
  },
  {
   "cell_type": "markdown",
   "metadata": {},
   "source": [
    "## 4. solver"
   ]
  },
  {
   "cell_type": "markdown",
   "metadata": {},
   "source": [
    "### 4.1 各所を押下時の挙動を列挙"
   ]
  },
  {
   "cell_type": "code",
   "execution_count": 44,
   "metadata": {},
   "outputs": [
    {
     "name": "stdout",
     "output_type": "stream",
     "text": [
      "[[ True  True False  True False False False False False]\n",
      " [ True  True  True False  True False False False False]\n",
      " [False  True  True False False  True False False False]\n",
      " [ True False False  True  True False  True False False]\n",
      " [False  True False  True  True  True False  True False]\n",
      " [False False  True False  True  True False False  True]\n",
      " [False False False  True False False  True  True False]\n",
      " [False False False False  True False  True  True  True]\n",
      " [False False False False False  True False  True  True]]\n"
     ]
    }
   ],
   "source": [
    "push_state = []\n",
    "for i in range(n):\n",
    "    for j in range(m):\n",
    "        tmp = np.array([[False]*n]*m)\n",
    "        tmp[i, j] = True\n",
    "        for k in [i-1, i+1]:\n",
    "            if 0 <= k < n:\n",
    "                tmp[k, j] = True\n",
    "        for k in [j-1, j+1]:\n",
    "            if 0 <= k < m:\n",
    "                tmp[i, k] = True\n",
    "        push_state.append(tmp.reshape(-1))\n",
    "\n",
    "push_state = np.array(push_state)\n",
    "print(push_state)"
   ]
  },
  {
   "cell_type": "markdown",
   "metadata": {},
   "source": [
    "#### 一覧表示"
   ]
  },
  {
   "cell_type": "code",
   "execution_count": 47,
   "metadata": {},
   "outputs": [
    {
     "data": {
      "image/png": "[encoded data removed]",
      "text/plain": [
       "<Figure size 216x216 with 1 Axes>"
      ]
     },
     "metadata": {},
     "output_type": "display_data"
    },
    {
     "data": {
      "image/png": "[encoded data removed]",
      "text/plain": [
       "<Figure size 216x216 with 1 Axes>"
      ]
     },
     "metadata": {},
     "output_type": "display_data"
    },
    {
     "data": {
      "image/png": "[encoded data removed]",
      "text/plain": [
       "<Figure size 216x216 with 1 Axes>"
      ]
     },
     "metadata": {},
     "output_type": "display_data"
    },
    {
     "data": {
      "image/png": "[encoded data removed]",
      "text/plain": [
       "<Figure size 216x216 with 1 Axes>"
      ]
     },
     "metadata": {},
     "output_type": "display_data"
    },
    {
     "data": {
      "image/png": "[encoded data removed]",
      "text/plain": [
       "<Figure size 216x216 with 1 Axes>"
      ]
     },
     "metadata": {},
     "output_type": "display_data"
    },
    {
     "data": {
      "image/png": "[encoded data removed]",
      "text/plain": [
       "<Figure size 216x216 with 1 Axes>"
      ]
     },
     "metadata": {},
     "output_type": "display_data"
    },
    {
     "data": {
      "image/png": "[encoded data removed]",
      "text/plain": [
       "<Figure size 216x216 with 1 Axes>"
      ]
     },
     "metadata": {},
     "output_type": "display_data"
    },
    {
     "data": {
      "image/png": "[encoded data removed]",
      "text/plain": [
       "<Figure size 216x216 with 1 Axes>"
      ]
     },
     "metadata": {},
     "output_type": "display_data"
    },
    {
     "data": {
      "image/png": "[encoded data removed]",
      "text/plain": [
       "<Figure size 216x216 with 1 Axes>"
      ]
     },
     "metadata": {},
     "output_type": "display_data"
    }
   ],
   "source": [
    "for p_state in push_state:\n",
    "    display_state(n, m, p_state, 'red')"
   ]
  },
  {
   "cell_type": "markdown",
   "metadata": {},
   "source": [
    "### 4.2 方程式を作成"
   ]
  },
  {
   "cell_type": "code",
   "execution_count": null,
   "metadata": {},
   "outputs": [],
   "source": []
  }
 ],
 "metadata": {
  "kernelspec": {
   "display_name": "Python 3",
   "language": "python",
   "name": "python3"
  },
  "language_info": {
   "codemirror_mode": {
    "name": "ipython",
    "version": 3
   },
   "file_extension": ".py",
   "mimetype": "text/x-python",
   "name": "python",
   "nbconvert_exporter": "python",
   "pygments_lexer": "ipython3",
   "version": "3.7.0"
  }
 },
 "nbformat": 4,
 "nbformat_minor": 2
}
